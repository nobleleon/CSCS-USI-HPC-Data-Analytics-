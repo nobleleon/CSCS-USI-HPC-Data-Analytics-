


import numpy as np


x = np.arange(5)   # of shape (5,)
x + 1.





# array with int as elements `array([0, 1, 2, 3, 4])`.
x = np.arange(5)
x.shape


# the elements of this array are arrays of a single int: `array([[0], [1], [2], [3], [4]])`.
# it can be seen as 5 rows of 1 element (a column vector)
x[:, np.newaxis].shape


# the element of this array is an array of shape (5,): `array([[0, 1, 2, 3, 4]])`.
# this one is a row vector
x[np.newaxis, :].shape








y = x[:, np.newaxis] + x[np.newaxis, :]
y.shape








# generate the data
x = np.random.rand(10, 3)
x.shape


x[np.newaxis, :, :].shape


x[:, np.newaxis, :].shape


(x[np.newaxis, :, :] - x[:, np.newaxis, :]).shape



