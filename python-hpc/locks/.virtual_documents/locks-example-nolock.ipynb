import time
import threading


def print_word_by_word(string, color=''):
    for word in string.split(' '):
        time.sleep(1e-5)
        print(f' {color}{word}', end='')


def function_1():
    for i in range(10):
        print_word_by_word('Hello from the first function\n', color='\033[91m')


def function_2():
    for i in range(10):
        print_word_by_word('Hello from the second function\n', color='\033[92m')


thread_1 = threading.Thread(target=function_1)
thread_2 = threading.Thread(target=function_2)

thread_1.start()
thread_2.start()

thread_1.join()
thread_2.join()



